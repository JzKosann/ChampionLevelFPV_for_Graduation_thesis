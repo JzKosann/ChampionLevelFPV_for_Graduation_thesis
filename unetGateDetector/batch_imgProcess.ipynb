{
 "cells": [
  {
   "cell_type": "code",
   "id": "initial_id",
   "metadata": {
    "collapsed": true,
    "ExecuteTime": {
     "end_time": "2024-10-30T09:15:59.807804Z",
     "start_time": "2024-10-30T09:15:59.800399Z"
    }
   },
   "source": [
    "from msvcrt import putch\n",
    "\n",
    "import model.unet\n",
    "import torchvision.transforms as transforms\n",
    "import torch\n",
    "import numpy as np\n",
    "import cv2\n",
    "\n",
    "path1 = \"./dataSet/img_train/test/img0_20240924_161725.png\"\n",
    "path2 = \"./dataSet/img_train/test/img0_20240924_161728.png\""
   ],
   "outputs": [],
   "execution_count": 57
  },
  {
   "metadata": {
    "ExecuteTime": {
     "end_time": "2024-10-30T09:15:59.838510Z",
     "start_time": "2024-10-30T09:15:59.814901Z"
    }
   },
   "cell_type": "code",
   "source": [
    "img1 = cv2.imread(path1,0)\n",
    "img2 = cv2.imread(path2,0)\n",
    "\n",
    "img1.shape,img2.shape"
   ],
   "id": "dd21fcaeda4f6541",
   "outputs": [
    {
     "data": {
      "text/plain": [
       "((480, 640), (480, 640))"
      ]
     },
     "execution_count": 58,
     "metadata": {},
     "output_type": "execute_result"
    }
   ],
   "execution_count": 58
  },
  {
   "metadata": {
    "ExecuteTime": {
     "end_time": "2024-10-30T09:15:59.994585Z",
     "start_time": "2024-10-30T09:15:59.886748Z"
    }
   },
   "cell_type": "code",
   "source": [
    "# img1 = transforms.ToTensor()(img1)\n",
    "# img2 = transforms.ToTensor()(img2)\n",
    "# img1 = img1.unsqueeze(0)\n",
    "# img2 = img2.unsqueeze(0)\n",
    "# batch_input = torch.cat((img1,img2),0).to('cuda')\n",
    "unet = model.unet.Unet()\n",
    "# batch_input.shape"
   ],
   "id": "cb43ffa339f532f",
   "outputs": [
    {
     "name": "stdout",
     "output_type": "stream",
     "text": [
      "./best_model.pth model, and classes loaded.\n",
      "Configurations:\n",
      "----------------------------------------------------------------------\n",
      "|                     keys |                                   values|\n",
      "----------------------------------------------------------------------\n",
      "|               model_path |                         ./best_model.pth|\n",
      "|              num_classes |                                        5|\n",
      "|              input_shape |                               [480, 640]|\n",
      "|                     cuda |                                     True|\n",
      "----------------------------------------------------------------------\n"
     ]
    }
   ],
   "execution_count": 59
  },
  {
   "metadata": {
    "ExecuteTime": {
     "end_time": "2024-10-30T09:16:00.117956Z",
     "start_time": "2024-10-30T09:16:00.099386Z"
    }
   },
   "cell_type": "code",
   "source": [
    "unet.detect(img1,img2)\n",
    "# model = model.unet.UNet(n_channels=1,n_classes=5)\n",
    "# model = model.to('cuda')\n",
    "# with torch.no_grad():\n",
    "#     output = model(batch_input)\n",
    "# output"
   ],
   "id": "f3a83ab05f8e8503",
   "outputs": [
    {
     "ename": "TypeError",
     "evalue": "Unet.detect() takes 2 positional arguments but 3 were given",
     "output_type": "error",
     "traceback": [
      "\u001B[1;31m---------------------------------------------------------------------------\u001B[0m",
      "\u001B[1;31mTypeError\u001B[0m                                 Traceback (most recent call last)",
      "Cell \u001B[1;32mIn[60], line 1\u001B[0m\n\u001B[1;32m----> 1\u001B[0m \u001B[43munet\u001B[49m\u001B[38;5;241;43m.\u001B[39;49m\u001B[43mdetect\u001B[49m\u001B[43m(\u001B[49m\u001B[43mimg1\u001B[49m\u001B[43m,\u001B[49m\u001B[43mimg2\u001B[49m\u001B[43m)\u001B[49m\n\u001B[0;32m      2\u001B[0m \u001B[38;5;66;03m# model = model.unet.UNet(n_channels=1,n_classes=5)\u001B[39;00m\n\u001B[0;32m      3\u001B[0m \u001B[38;5;66;03m# model = model.to('cuda')\u001B[39;00m\n\u001B[0;32m      4\u001B[0m \u001B[38;5;66;03m# with torch.no_grad():\u001B[39;00m\n\u001B[0;32m      5\u001B[0m \u001B[38;5;66;03m#     output = model(batch_input)\u001B[39;00m\n\u001B[0;32m      6\u001B[0m \u001B[38;5;66;03m# output\u001B[39;00m\n",
      "\u001B[1;31mTypeError\u001B[0m: Unet.detect() takes 2 positional arguments but 3 were given"
     ]
    }
   ],
   "execution_count": 60
  },
  {
   "metadata": {},
   "cell_type": "code",
   "outputs": [],
   "execution_count": null,
   "source": "|\n",
   "id": "d2c23a144731c0bc"
  }
 ],
 "metadata": {
  "kernelspec": {
   "display_name": "Python 3",
   "language": "python",
   "name": "python3"
  },
  "language_info": {
   "codemirror_mode": {
    "name": "ipython",
    "version": 2
   },
   "file_extension": ".py",
   "mimetype": "text/x-python",
   "name": "python",
   "nbconvert_exporter": "python",
   "pygments_lexer": "ipython2",
   "version": "2.7.6"
  }
 },
 "nbformat": 4,
 "nbformat_minor": 5
}

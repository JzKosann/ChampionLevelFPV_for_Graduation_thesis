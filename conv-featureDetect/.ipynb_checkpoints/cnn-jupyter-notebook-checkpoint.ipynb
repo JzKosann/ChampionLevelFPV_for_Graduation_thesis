{
 "cells": [
  {
   "cell_type": "code",
   "execution_count": 60,
   "id": "d28a2eef",
   "metadata": {},
   "outputs": [],
   "source": [
    "import pandas as pd\n",
    "import torch\n",
    "from torch.utils.data import Dataset, DataLoader\n",
    "from PIL import Image\n",
    "import numpy as np\n",
    "\n",
    "# 定义函数解析特征点\n",
    "def parse_point(point_str):\n",
    "    # 假设格式为 (x, y)\n",
    "    point_str = point_str.strip('()')\n",
    "    x, y = point_str.split(', ')\n",
    "    return (int(x), int(y))\n",
    "\n",
    "# 自定义 PyTorch 数据集类\n",
    "class ImageDataset(Dataset):\n",
    "    def __init__(self, csv_file, img_dir, transform=None):\n",
    "        # 加载 CSV 数据\n",
    "        self.data = pd.read_csv(csv_file)\n",
    "        self.img_dir = img_dir\n",
    "        self.transform = transform\n",
    "\n",
    "    def __len__(self):\n",
    "        return len(self.data)\n",
    "\n",
    "    def __getitem__(self, idx):\n",
    "        # 获取图像路径\n",
    "        img_name = self.data.iloc[idx]['img_name']\n",
    "        img_path = f\"{self.img_dir}/{img_name}\"\n",
    "        image = Image.open(img_path).convert(\"RGB\")\n",
    "        \n",
    "        # 解析特征点\n",
    "        lu_point = parse_point(self.data.iloc[idx]['lu'])\n",
    "        ro_point = parse_point(self.data.iloc[idx]['ro'])\n",
    "        ld_point = parse_point(self.data.iloc[idx]['ld'])\n",
    "        rd_point = parse_point(self.data.iloc[idx]['rd'])\n",
    "\n",
    "        # 将特征点转换为张量\n",
    "        labels = torch.tensor([*lu_point, *ro_point, *ld_point, *rd_point], dtype=torch.float32)\n",
    "        \n",
    "        if self.transform:\n",
    "            image = self.transform(image)\n",
    "        \n",
    "        return image, labels"
   ]
  },
  {
   "cell_type": "code",
   "execution_count": 63,
   "id": "b35a4fdd",
   "metadata": {},
   "outputs": [],
   "source": [
    "if __name__ == '__main__':\n",
    "    csv_file = './dataSet/img_labels.csv'  # 你的CSV文件\n",
    "    img_dir = './dataSet/images/'  # 图像文件夹路径\n",
    "\n",
    "    # 定义你想要的图像变换，适用于训练时的数据增强\n",
    "    from torchvision import transforms\n",
    "    transform = transforms.Compose([\n",
    "        transforms.Resize((224, 224)),  # 调整图像大小\n",
    "        transforms.ToTensor(),          # 转换为张量\n",
    "    ])\n",
    "\n",
    "    # 创建数据集\n",
    "    dataset = ImageDataset(csv_file=csv_file, img_dir=img_dir, transform=transform)\n",
    "    \n",
    "    # 创建 DataLoader\n",
    "    dataloader = DataLoader(dataset, batch_size=16, shuffle=True)\n",
    "\n",
    "    # 检查数据\n",
    "    for images, labels in dataloader:\n",
    "        print(f\"Images batch shape: {images.shape}\")\n",
    "        print(f\"Labels batch shape: {labels.shape}\")\n",
    "        break"
   ]
  },
  {
   "cell_type": "code",
   "execution_count": 71,
   "id": "35e56f68",
   "metadata": {},
   "outputs": [
    {
     "ename": "IndentationError",
     "evalue": "unexpected indent (2165778709.py, line 2)",
     "output_type": "error",
     "traceback": [
      "\u001b[1;36m  Cell \u001b[1;32mIn[71], line 2\u001b[1;36m\u001b[0m\n\u001b[1;33m    transform = transforms.Compose([transforms.Resize((224, 224)),  # 调整图像大小\u001b[0m\n\u001b[1;37m    ^\u001b[0m\n\u001b[1;31mIndentationError\u001b[0m\u001b[1;31m:\u001b[0m unexpected indent\n"
     ]
    }
   ],
   "source": []
  },
  {
   "cell_type": "code",
   "execution_count": null,
   "id": "e132e225",
   "metadata": {},
   "outputs": [],
   "source": []
  },
  {
   "cell_type": "code",
   "execution_count": null,
   "id": "29e79541",
   "metadata": {},
   "outputs": [],
   "source": []
  },
  {
   "cell_type": "code",
   "execution_count": null,
   "id": "578b40e4",
   "metadata": {},
   "outputs": [],
   "source": []
  },
  {
   "cell_type": "code",
   "execution_count": null,
   "id": "bb0f8cdf",
   "metadata": {},
   "outputs": [],
   "source": []
  },
  {
   "cell_type": "code",
   "execution_count": null,
   "id": "2f44c709",
   "metadata": {},
   "outputs": [],
   "source": []
  },
  {
   "cell_type": "code",
   "execution_count": null,
   "id": "d5c64c73",
   "metadata": {},
   "outputs": [],
   "source": []
  },
  {
   "cell_type": "code",
   "execution_count": null,
   "id": "c9c66c86",
   "metadata": {},
   "outputs": [],
   "source": []
  },
  {
   "cell_type": "code",
   "execution_count": null,
   "id": "71f319ba",
   "metadata": {},
   "outputs": [],
   "source": []
  }
 ],
 "metadata": {
  "kernelspec": {
   "display_name": "Python [conda env:.conda-conda-env] *",
   "language": "python",
   "name": "conda-env-.conda-conda-env-py"
  },
  "language_info": {
   "codemirror_mode": {
    "name": "ipython",
    "version": 3
   },
   "file_extension": ".py",
   "mimetype": "text/x-python",
   "name": "python",
   "nbconvert_exporter": "python",
   "pygments_lexer": "ipython3",
   "version": "3.10.9"
  }
 },
 "nbformat": 4,
 "nbformat_minor": 5
}
